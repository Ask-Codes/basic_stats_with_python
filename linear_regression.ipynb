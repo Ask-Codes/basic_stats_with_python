{
 "cells": [
  {
   "cell_type": "markdown",
   "metadata": {},
   "source": [
    "# Linear Regression\n",
    "The term regression is used when you try to find the relationship between variables (dependent and independent), which is used to predict the outcome of future events.\n",
    "Linear regression uses the relationship between the data-points to draw a straight line through all them. This line can be used to predict future values.\n",
    "We must know relationship between the values of the x-axis and the values of the y-axis exist. If there is no relationship, then we cannot use the linear regression to predict future occurences.\n",
    "The relationsip also known as coefficient of correlation is denoted as r. The value of r ranges from -1 to 1, where 0 means no relationship exist values of x and y, while 1 and -1 means positve and negative relationship respectively.\n",
    "\n",
    "# Linear Regression Analysis Procedures\n",
    "To carry out a simple linear regression analysis, first we import the following modulues:"
   ]
  },
  {
   "cell_type": "code",
   "execution_count": 3,
   "metadata": {},
   "outputs": [],
   "source": [
    "import pandas as pd\n",
    "import matplotlib.pyplot as plt\n",
    "import statistics\n",
    "from scipy import stats"
   ]
  },
  {
   "cell_type": "code",
   "execution_count": 4,
   "metadata": {},
   "outputs": [],
   "source": [
    "# To examine the relationship between students' age and their performance in Physics Test\n",
    "age = [18, 21, 23, 24, 20, 30, 19, 24, 28, 25, 29, 25, 23, 26, 22]\n",
    "performance = [15,20,15,20,16,18,24,11,24,23,26,22,27,17,30]"
   ]
  },
  {
   "cell_type": "markdown",
   "metadata": {},
   "source": [
    "Exploring the data to ensure consistency in the dataset"
   ]
  },
  {
   "cell_type": "code",
   "execution_count": 7,
   "metadata": {},
   "outputs": [
    {
     "data": {
      "text/plain": [
       "15"
      ]
     },
     "execution_count": 7,
     "metadata": {},
     "output_type": "execute_result"
    }
   ],
   "source": [
    "len(age) # to examine the length of the age dataset inorder to maintain consistency"
   ]
  },
  {
   "cell_type": "code",
   "execution_count": 8,
   "metadata": {},
   "outputs": [
    {
     "data": {
      "text/plain": [
       "15"
      ]
     },
     "execution_count": 8,
     "metadata": {},
     "output_type": "execute_result"
    }
   ],
   "source": [
    "len(performance) # to examine the length of the performance dataset inorder to maintain consistency"
   ]
  },
  {
   "cell_type": "code",
   "execution_count": 9,
   "metadata": {},
   "outputs": [
    {
     "data": {
      "text/plain": [
       "23.8"
      ]
     },
     "execution_count": 9,
     "metadata": {},
     "output_type": "execute_result"
    }
   ],
   "source": [
    "statistics.mean(age) # using statistics module to obtain the mean age of students"
   ]
  },
  {
   "cell_type": "code",
   "execution_count": 10,
   "metadata": {},
   "outputs": [
    {
     "data": {
      "text/plain": [
       "24"
      ]
     },
     "execution_count": 10,
     "metadata": {},
     "output_type": "execute_result"
    }
   ],
   "source": [
    "statistics.median(age) # using statistics module to obtain the median age of students"
   ]
  },
  {
   "cell_type": "code",
   "execution_count": 11,
   "metadata": {},
   "outputs": [
    {
     "data": {
      "text/plain": [
       "20.533333333333335"
      ]
     },
     "execution_count": 11,
     "metadata": {},
     "output_type": "execute_result"
    }
   ],
   "source": [
    "statistics.mean(performance) # using statistics module to obtain the mean performance of students"
   ]
  },
  {
   "cell_type": "markdown",
   "metadata": {},
   "source": [
    "# Ploting a scatter plot\n",
    "First we plot a scatter plot to show the relationship between the variables."
   ]
  },
  {
   "cell_type": "code",
   "execution_count": 13,
   "metadata": {},
   "outputs": [
    {
     "data": {
      "text/plain": [
       "<matplotlib.collections.PathCollection at 0x5dd8569c18>"
      ]
     },
     "execution_count": 13,
     "metadata": {},
     "output_type": "execute_result"
    },
    {
     "data": {
      "image/png": "[encoded data removed]",
      "text/plain": [
       "<Figure size 432x288 with 1 Axes>"
      ]
     },
     "metadata": {
      "needs_background": "light"
     },
     "output_type": "display_data"
    }
   ],
   "source": [
    "% matplotlib inline\n",
    "# create a scatter plot using matplotlib.pyplot\n",
    "plt.scatter(age,performance) "
   ]
  },
  {
   "cell_type": "code",
   "execution_count": 14,
   "metadata": {},
   "outputs": [
    {
     "data": {
      "text/plain": [
       "Text(0,0.5,\"Students' Performance\")"
      ]
     },
     "execution_count": 14,
     "metadata": {},
     "output_type": "execute_result"
    },
    {
     "data": {
      "image/png": "[encoded data removed]",
      "text/plain": [
       "<Figure size 432x288 with 1 Axes>"
      ]
     },
     "metadata": {
      "needs_background": "light"
     },
     "output_type": "display_data"
    }
   ],
   "source": [
    "# Formating the plot\n",
    "\n",
    "plt.scatter(age,performance, color='green') # change the color of the scatter plot to green\n",
    "plt.title(\"Students' Age and Performance\") # adds plot title label\n",
    "plt.xlabel(\"Students' Age\") # adds x-axis label(title)\n",
    "plt.ylabel(\"Students' Performance\") # adds y-axis label"
   ]
  },
  {
   "cell_type": "markdown",
   "metadata": {},
   "source": [
    "# Generating linear regression coeffients"
   ]
  },
  {
   "cell_type": "code",
   "execution_count": 15,
   "metadata": {},
   "outputs": [
    {
     "data": {
      "text/plain": [
       "LinregressResult(slope=0.22133027522935783, intercept=15.265672782874619, rvalue=0.1488231454227301, pvalue=0.5965635492600465, stderr=0.4078825820458163)"
      ]
     },
     "execution_count": 15,
     "metadata": {},
     "output_type": "execute_result"
    }
   ],
   "source": [
    "stats.linregress(age,performance) # generate linear regression model and coeffients"
   ]
  },
  {
   "cell_type": "markdown",
   "metadata": {},
   "source": [
    "# Ploting the Linear Regression Model"
   ]
  },
  {
   "cell_type": "code",
   "execution_count": 16,
   "metadata": {},
   "outputs": [
    {
     "data": {
      "text/plain": [
       "[<matplotlib.lines.Line2D at 0x5dd8613400>]"
      ]
     },
     "execution_count": 16,
     "metadata": {},
     "output_type": "execute_result"
    },
    {
     "data": {
      "image/png": "[encoded data removed]",
      "text/plain": [
       "<Figure size 432x288 with 1 Axes>"
      ]
     },
     "metadata": {
      "needs_background": "light"
     },
     "output_type": "display_data"
    }
   ],
   "source": [
    "# To plot the regression model\n",
    "slope, intercept, r, p, std_err = stats.linregress(age, performance) #Create a function that uses the slope and intercept values to return a new value.\n",
    "#This new value represents where on the y-axis the corresponding x value will be placed:\n",
    "def reg_func(age):\n",
    "    return slope * age + intercept\n",
    "model = list(map(reg_func, age))\n",
    "plt.scatter(age, performance) # plots the scatter plot\n",
    "plt.plot(age, model) # plots the regression model on the scatter plot"
   ]
  },
  {
   "cell_type": "code",
   "execution_count": 17,
   "metadata": {},
   "outputs": [
    {
     "data": {
      "text/plain": [
       "Text(0,0.5,\"Students' Performance\")"
      ]
     },
     "execution_count": 17,
     "metadata": {},
     "output_type": "execute_result"
    },
    {
     "data": {
      "image/png": "[encoded data removed]",
      "text/plain": [
       "<Figure size 432x288 with 1 Axes>"
      ]
     },
     "metadata": {
      "needs_background": "light"
     },
     "output_type": "display_data"
    }
   ],
   "source": [
    "slope, intercept, r, p, std_err = stats.linregress(age, performance)\n",
    "def reg_func(age):\n",
    "    return slope * age + intercept\n",
    "model = list(map(reg_func, age))\n",
    "plt.plot(age, model)\n",
    "plt.scatter(age,performance)\n",
    "# Add labels\n",
    "plt.title(\"Students' Age and Performance\")  #Add title labels\n",
    "plt.xlabel(\"Students' Age\") # Add x-axis labels\n",
    "plt.ylabel(\"Students' Performance\")  #Add y-axis labels"
   ]
  },
  {
   "cell_type": "markdown",
   "metadata": {},
   "source": [
    "# Adding labels to the plot"
   ]
  },
  {
   "cell_type": "code",
   "execution_count": 19,
   "metadata": {},
   "outputs": [
    {
     "data": {
      "text/plain": [
       "Text(0,0.5,\"Students' Performance\")"
      ]
     },
     "execution_count": 19,
     "metadata": {},
     "output_type": "execute_result"
    },
    {
     "data": {
      "image/png": "[encoded data removed]",
      "text/plain": [
       "<Figure size 432x288 with 1 Axes>"
      ]
     },
     "metadata": {
      "needs_background": "light"
     },
     "output_type": "display_data"
    }
   ],
   "source": [
    "# Change the colour of title and axes labels\n",
    "slope, intercept, r, p, std_err = stats.linregress(age, performance)\n",
    "def reg_func(age):\n",
    "    return slope * age + intercept\n",
    "model = list(map(reg_func, age))\n",
    "plt.plot(age, model)\n",
    "plt.scatter(age,performance)\n",
    "plt.title(\"Students' Age and Performance\", color = 'red')\n",
    "plt.xlabel(\"Students' Age\", color = 'purple')\n",
    "plt.ylabel(\"Students' Performance\", color = 'green')"
   ]
  },
  {
   "cell_type": "code",
   "execution_count": 15,
   "metadata": {},
   "outputs": [
    {
     "data": {
      "image/png": "[encoded data removed]",
      "text/plain": [
       "<Figure size 432x288 with 1 Axes>"
      ]
     },
     "metadata": {
      "needs_background": "light"
     },
     "output_type": "display_data"
    }
   ],
   "source": [
    "# Change the size of title and axes labels\n",
    "slope, intercept, r, p, std_err = stats.linregress(age, performance)\n",
    "def reg_func(age):\n",
    "    return slope * age + intercept\n",
    "model = list(map(reg_func, age))\n",
    "plt.plot(age, model)\n",
    "plt.scatter(age,performance)\n",
    "plt.title(\"Students' Age and Performance\", color = 'red')\n",
    "plt.xlabel(\"Students' Age\", color = 'purple')\n",
    "plt.ylabel(\"Students' Performance\", color = 'green')\n",
    "#plt.rc({\"figuresize:19\"})\n",
    "plt.rc('axes',labelsize=20)\n",
    "plt.rc('axes',titlesize=20)"
   ]
  },
  {
   "cell_type": "code",
   "execution_count": 25,
   "metadata": {},
   "outputs": [
    {
     "data": {
      "text/plain": [
       "<matplotlib.collections.PathCollection at 0x7ebbb07b8>"
      ]
     },
     "execution_count": 25,
     "metadata": {},
     "output_type": "execute_result"
    },
    {
     "data": {
      "image/png": "[encoded data removed]",
      "text/plain": [
       "<Figure size 432x288 with 1 Axes>"
      ]
     },
     "metadata": {
      "needs_background": "light"
     },
     "output_type": "display_data"
    }
   ],
   "source": [
    "# Change the color of the scatter plot and regression line\n",
    "slope, intercept, r, p, std_err = stats.linregress(age, performance)\n",
    "def reg_func(age):\n",
    "    return slope * age + intercept\n",
    "model = list(map(reg_func, age))\n",
    "plt.plot(age, model, color = 'gold')\n",
    "plt.scatter(age,performance, color='green')"
   ]
  },
  {
   "cell_type": "code",
   "execution_count": 26,
   "metadata": {},
   "outputs": [
    {
     "data": {
      "image/png": "[encoded data removed]",
      "text/plain": [
       "<Figure size 432x288 with 1 Axes>"
      ]
     },
     "metadata": {
      "needs_background": "light"
     },
     "output_type": "display_data"
    }
   ],
   "source": [
    "# Change the size of the figure - use plt.rcParams\n",
    "slope, intercept, r, p, std_err = stats.linregress(age, performance)\n",
    "def reg_func(age):\n",
    "    return slope * age + intercept\n",
    "model = list(map(reg_func, age))\n",
    "plt.plot(age, model)\n",
    "plt.scatter(age,performance)\n",
    "plt.rcParams['figure.figsize']=(8,4) # to change fiigure size"
   ]
  },
  {
   "cell_type": "code",
   "execution_count": 27,
   "metadata": {},
   "outputs": [
    {
     "name": "stdout",
     "output_type": "stream",
     "text": [
      "0.22133027522935783\n",
      "15.265672782874619\n",
      "0.1488231454227301\n",
      "0.5965635492600465\n",
      "0.4078825820458163\n"
     ]
    }
   ],
   "source": [
    "print(slope) \n",
    "print(intercept)\n",
    "print(r) # outputs the correlation coeffienct (r) to know how the datasets relate to each other\n",
    "print(p)\n",
    "print(std_err)"
   ]
  },
  {
   "cell_type": "code",
   "execution_count": null,
   "metadata": {},
   "outputs": [],
   "source": [
    "Prediction or forecasting future outcome"
   ]
  },
  {
   "cell_type": "code",
   "execution_count": 29,
   "metadata": {},
   "outputs": [],
   "source": [
    "# To Predict what the performance of a student will be given the students' age as 18\n",
    "\n",
    "new_performance = reg_func(18)"
   ]
  },
  {
   "cell_type": "code",
   "execution_count": 28,
   "metadata": {},
   "outputs": [],
   "source": [
    "# Interpretation of Result (Model): \n",
    "# The result (r= 0.148) shows that there is a weak positive relationship between the datasets, but it indicates that \n",
    "# we could use linear regression in future predictions."
   ]
  },
  {
   "cell_type": "code",
   "execution_count": 30,
   "metadata": {},
   "outputs": [
    {
     "name": "stdout",
     "output_type": "stream",
     "text": [
      "19.24961773700306\n"
     ]
    }
   ],
   "source": [
    "print(new_performance) # a student who is 18 years old is likely to score 19.249 in the Physics test"
   ]
  }
 ],
 "metadata": {
  "kernelspec": {
   "display_name": "Python 3",
   "language": "python",
   "name": "python3"
  },
  "language_info": {
   "codemirror_mode": {
    "name": "ipython",
    "version": 3
   },
   "file_extension": ".py",
   "mimetype": "text/x-python",
   "name": "python",
   "nbconvert_exporter": "python",
   "pygments_lexer": "ipython3",
   "version": "3.7.0"
  },
  "widgets": {
   "application/vnd.jupyter.widget-state+json": {
    "state": {},
    "version_major": 2,
    "version_minor": 0
   }
  }
 },
 "nbformat": 4,
 "nbformat_minor": 2
}
