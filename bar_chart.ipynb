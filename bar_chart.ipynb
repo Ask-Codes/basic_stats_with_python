{
 "cells": [
  {
   "cell_type": "markdown",
   "metadata": {},
   "source": [
    "# Bar Chart\n",
    "A bar char is a chart or graph which presents categorical data with rectangular bars at heights or lengths proportional to the values they represent.\n",
    "# How to plot a bar chart in python?\n",
    "We will be plotting a bar chart in python using matplotlib.pyplot module.\n",
    "Matplotlib is a visualization library in python offering a number of chart options to display your data. To plot a bar chart you can use matplotlib.pyplot’s bar() function. The syntax is:"
   ]
  },
  {
   "cell_type": "raw",
   "metadata": {},
   "source": [
    "import matplotlib.pyplot as plt\n",
    "plt.bar(x, y)"
   ]
  },
  {
   "cell_type": "markdown",
   "metadata": {},
   "source": [
    "Note:\n",
    "Here, x is the sequence of x-coordinates (or labels) to be used and y is the sequence of heights for each x. There are a number of other parameters as well that help you customize the plot. For instance, you can change the width of the bars with the width parameter or change the color of the bars using the color parameter, etc. \n",
    "Let's see some examples below:"
   ]
  },
  {
   "cell_type": "markdown",
   "metadata": {},
   "source": [
    "# Example\n",
    "Some examples of creating a bar chart with matplotlib."
   ]
  },
  {
   "cell_type": "markdown",
   "metadata": {},
   "source": [
    "# 1. Bar chart with default parameters\n",
    "Here, we want to plot a bar chart of the Monthly Sales of an Organization. \n",
    "Let’s create a bar chart by passing the months and sales in each month. Here, all other parameters are kept as default."
   ]
  },
  {
   "cell_type": "code",
   "execution_count": 14,
   "metadata": {},
   "outputs": [
    {
     "data": {
      "text/plain": [
       "<BarContainer object of 12 artists>"
      ]
     },
     "execution_count": 14,
     "metadata": {},
     "output_type": "execute_result"
    },
    {
     "data": {
      "image/png": "[encoded data removed]",
      "text/plain": [
       "<Figure size 432x288 with 1 Axes>"
      ]
     },
     "metadata": {
      "needs_background": "light"
     },
     "output_type": "display_data"
    }
   ],
   "source": [
    "%matplotlib inline\n",
    "import matplotlib.pyplot as plt\n",
    "\n",
    "# Monthly Sales of an Orgnaization\n",
    "\n",
    "months = ('Jan', 'Feb', 'Mar', 'Apr', 'May', 'Jun', 'Jul', 'Aug', 'Sep', 'Oct', 'Nov', 'Dec')\n",
    "sales = [400000, 380000, 231000, 310000, 290000, 250000, 215000,340000, 320000, \n",
    "         410000, 440000, 460000]\n",
    "\n",
    "# Plot a bar chart\n",
    "plt.bar(months, sales)"
   ]
  },
  {
   "cell_type": "markdown",
   "metadata": {},
   "source": [
    "From the output above, we get a neat bar chart/graph with the height of the bars representing the monthy sales. "
   ]
  },
  {
   "cell_type": "markdown",
   "metadata": {},
   "source": [
    "# Bar Chart with some Basic Formatting\n",
    "Now let’s add some basic formatting to this chart like axis labels and title to make it more clear."
   ]
  },
  {
   "cell_type": "code",
   "execution_count": 15,
   "metadata": {},
   "outputs": [
    {
     "data": {
      "text/plain": [
       "Text(0.5,0,'Months')"
      ]
     },
     "execution_count": 15,
     "metadata": {},
     "output_type": "execute_result"
    },
    {
     "data": {
      "image/png": "[encoded data removed]",
      "text/plain": [
       "<Figure size 432x288 with 1 Axes>"
      ]
     },
     "metadata": {
      "needs_background": "light"
     },
     "output_type": "display_data"
    }
   ],
   "source": [
    "%matplotlib inline\n",
    "import matplotlib.pyplot as plt\n",
    "\n",
    "# Monthly Sales of an Orgnaization\n",
    "\n",
    "months = ('Jan', 'Feb', 'Mar', 'Apr', 'May', 'Jun', 'Jul', 'Aug', 'Sep', 'Oct', 'Nov', 'Dec')\n",
    "sales = [400000, 380000, 231000, 310000, 290000, 250000, 215000,340000, 320000, \n",
    "         410000, 440000, 460000]\n",
    "\n",
    "# Plot a bar chart\n",
    "plt.bar(months, sales)\n",
    "\n",
    "# Set Labels\n",
    "plt.title(\"Monthly Sales of an Organization\") # Title label\n",
    "plt.ylabel(\"Sales\") # set y-axis label\n",
    "plt.xlabel(\"Months\") #set x-axis label"
   ]
  },
  {
   "cell_type": "markdown",
   "metadata": {},
   "source": [
    "Notice that the output above shows bar chart with title, x and y axis labels"
   ]
  },
  {
   "cell_type": "markdown",
   "metadata": {},
   "source": [
    "# Bar chart with customized bars width\n",
    "We can customize the width of the bars using the width parameter which takes either a scaler (if you want the same width for all bars) or a sequence of scalers (if you want the different width for each bar). By default, the width is 0.8, so, you can pass a smaller value if you want to decrease the width or a larger value if you want to increase the width."
   ]
  },
  {
   "cell_type": "code",
   "execution_count": 16,
   "metadata": {},
   "outputs": [
    {
     "data": {
      "text/plain": [
       "Text(0.5,0,'Months')"
      ]
     },
     "execution_count": 16,
     "metadata": {},
     "output_type": "execute_result"
    },
    {
     "data": {
      "image/png": "[encoded data removed]",
      "text/plain": [
       "<Figure size 432x288 with 1 Axes>"
      ]
     },
     "metadata": {
      "needs_background": "light"
     },
     "output_type": "display_data"
    }
   ],
   "source": [
    "%matplotlib inline\n",
    "import matplotlib.pyplot as plt\n",
    "\n",
    "# Monthly Sales of an Orgnaization\n",
    "\n",
    "months = ('Jan', 'Feb', 'Mar', 'Apr', 'May', 'Jun', 'Jul', 'Aug', 'Sep', 'Oct', 'Nov', 'Dec')\n",
    "sales = [400000, 380000, 231000, 310000, 290000, 250000, 215000,340000, 320000, \n",
    "         410000, 440000, 460000]\n",
    "\n",
    "# Plot a bar chart\n",
    "plt.bar(months, sales, width =0.6) # adjust the width of the bars\n",
    "\n",
    "# Set Labels\n",
    "plt.title(\"Monthly Sales of an Organization\") # Title label\n",
    "plt.ylabel(\"Sales\") # set y-axis label\n",
    "plt.xlabel(\"Months\") #set x-axis label"
   ]
  },
  {
   "cell_type": "markdown",
   "metadata": {},
   "source": [
    "We can see the bars here are comparatively thinner than the ones in the previous example since we passed 0.6, a value smaller than the default width of 0.8"
   ]
  },
  {
   "cell_type": "markdown",
   "metadata": {},
   "source": [
    "# Bar chart with customized colors\n",
    "We can customize the bar color when plotting with the bar() function by using the color parameter. \n",
    "Let's say you want the bars to be colored green:"
   ]
  },
  {
   "cell_type": "code",
   "execution_count": 17,
   "metadata": {},
   "outputs": [
    {
     "data": {
      "text/plain": [
       "Text(0.5,0,'Months')"
      ]
     },
     "execution_count": 17,
     "metadata": {},
     "output_type": "execute_result"
    },
    {
     "data": {
      "image/png": "[encoded data removed]",
      "text/plain": [
       "<Figure size 432x288 with 1 Axes>"
      ]
     },
     "metadata": {
      "needs_background": "light"
     },
     "output_type": "display_data"
    }
   ],
   "source": [
    "%matplotlib inline\n",
    "import matplotlib.pyplot as plt\n",
    "\n",
    "# Monthly Sales of an Orgnaization\n",
    "\n",
    "months = ('Jan', 'Feb', 'Mar', 'Apr', 'May', 'Jun', 'Jul', 'Aug', 'Sep', 'Oct', 'Nov', 'Dec')\n",
    "sales = [400000, 380000, 231000, 310000, 290000, 250000, 215000,340000, 320000, \n",
    "         410000, 440000, 460000]\n",
    "\n",
    "# Plot a bar chart\n",
    "plt.bar(months, sales, color = 'green') # change the color of the bars to green\n",
    "\n",
    "# Set Labels\n",
    "plt.title(\"Monthly Sales of an Organization\") # Title label\n",
    "plt.ylabel(\"Sales\") # set y-axis label\n",
    "plt.xlabel(\"Months\") #set x-axis label"
   ]
  },
  {
   "cell_type": "markdown",
   "metadata": {},
   "source": [
    "We can also specify a different color for each bar by passing the respective colors as a sequence to the color parameter."
   ]
  },
  {
   "cell_type": "code",
   "execution_count": 18,
   "metadata": {},
   "outputs": [
    {
     "data": {
      "text/plain": [
       "Text(0.5,0,'Months')"
      ]
     },
     "execution_count": 18,
     "metadata": {},
     "output_type": "execute_result"
    },
    {
     "data": {
      "image/png": "[encoded data removed]",
      "text/plain": [
       "<Figure size 432x288 with 1 Axes>"
      ]
     },
     "metadata": {
      "needs_background": "light"
     },
     "output_type": "display_data"
    }
   ],
   "source": [
    "%matplotlib inline\n",
    "import matplotlib.pyplot as plt\n",
    "\n",
    "# Monthly Sales of an Orgnaization\n",
    "\n",
    "months = ('Jan', 'Feb', 'Mar', 'Apr', 'May', 'Jun', 'Jul', 'Aug', 'Sep', 'Oct', 'Nov', 'Dec')\n",
    "sales = [400000, 380000, 231000, 310000, 290000, 250000, 215000,340000, 320000, \n",
    "         410000, 440000, 460000]\n",
    "colors = ('blue', 'red', 'green', 'gold', 'brown', 'black', 'pink', \n",
    "          'blue', 'yellow','purple', 'green', 'brown')\n",
    "# Plot a bar chart\n",
    "plt.bar(months, sales, color = colors) # gives distinct color to each bar\n",
    "\n",
    "# Set Labels\n",
    "plt.title(\"Monthly Sales of an Organization\") # Title label\n",
    "plt.ylabel(\"Sales\") # set y-axis label\n",
    "plt.xlabel(\"Months\") #set x-axis label"
   ]
  },
  {
   "cell_type": "markdown",
   "metadata": {},
   "source": [
    "# Bar chart with sorted bars\n",
    "To plot a bar chart with the bars in sorted order we need to sort our data before passing it to the bar() function. For instance, to display a bar chart in ascending order of monthly sales increase, we use:"
   ]
  },
  {
   "cell_type": "code",
   "execution_count": 27,
   "metadata": {},
   "outputs": [
    {
     "data": {
      "text/plain": [
       "Text(0.5,0,'Months')"
      ]
     },
     "execution_count": 27,
     "metadata": {},
     "output_type": "execute_result"
    },
    {
     "data": {
      "image/png": "[encoded data removed]",
      "text/plain": [
       "<Figure size 432x288 with 1 Axes>"
      ]
     },
     "metadata": {
      "needs_background": "light"
     },
     "output_type": "display_data"
    }
   ],
   "source": [
    "%matplotlib inline\n",
    "import matplotlib.pyplot as plt\n",
    "\n",
    "# Monthly Sales of an Orgnaization\n",
    "\n",
    "months = ('Jan', 'Feb', 'Mar', 'Apr', 'May', 'Jun', 'Jul', 'Aug', 'Sep', 'Oct', 'Nov', 'Dec')\n",
    "sales = [400000, 380000, 231000, 310000, 290000, 250000, 215000,340000, 320000, \n",
    "         410000, 440000, 460000]\n",
    "colors = ('blue', 'red', 'green', 'gold', 'brown', 'black', 'pink', \n",
    "          'blue', 'yellow','purple', 'green', 'brown')\n",
    "\n",
    "# Sort the lists\n",
    "sales_sorted = sorted(sales)\n",
    "months_sorted = [x for y, x in sorted(zip(sales, months))]\n",
    "\n",
    "# Plot a sorted bar chart\n",
    "plt.bar(months_sorted, sales_sorted, color = colors) # gives distinct color to each bar\n",
    "\n",
    "# Set Labels\n",
    "plt.title(\"Monthly Sales of an Organization\") # Title label\n",
    "plt.ylabel(\"Sales\") # set y-axis label\n",
    "plt.xlabel(\"Months\") #set x-axis label"
   ]
  }
 ],
 "metadata": {
  "kernelspec": {
   "display_name": "Python 3",
   "language": "python",
   "name": "python3"
  },
  "language_info": {
   "codemirror_mode": {
    "name": "ipython",
    "version": 3
   },
   "file_extension": ".py",
   "mimetype": "text/x-python",
   "name": "python",
   "nbconvert_exporter": "python",
   "pygments_lexer": "ipython3",
   "version": "3.7.0"
  }
 },
 "nbformat": 4,
 "nbformat_minor": 2
}
