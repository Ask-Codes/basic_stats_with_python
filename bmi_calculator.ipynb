{
 "cells": [
  {
   "cell_type": "code",
   "execution_count": 26,
   "metadata": {},
   "outputs": [],
   "source": [
    "# BODY MASS INDESS CALCULATOR"
   ]
  },
  {
   "cell_type": "code",
   "execution_count": 27,
   "metadata": {},
   "outputs": [
    {
     "name": "stdout",
     "output_type": "stream",
     "text": [
      "Weight(kg): 75\n",
      "Height(m2): 1.8\n",
      "Your Body Mass Index (BMI) = 23.15 kg/m2\n",
      "A BMI of 23.15kg/m2 is considered normal\n"
     ]
    }
   ],
   "source": [
    "# Create  Body Mass Index (BMI) calculator\n",
    "weight = float(input(\"Weight(kg): \")) # float function to take care of decimals\n",
    "height = float(input(\"Height(m2): \")) # input to enable individuals insert their weight and height\n",
    "bmi = round(weight/(height*height), 2) # round function returns a 2 decimal place of the outcome from bmi calculation\n",
    "print(\"Your Body Mass Index (BMI) = \" + str(bmi) + \" kg/m2\")\n",
    "if bmi >= 25:\n",
    "    print(f\"A BMI of {bmi}kg/m2 is considered overweight\")\n",
    "elif bmi >= 18.5 or not 25:\n",
    "    print(f\"A BMI of {bmi}kg/m2 is considered normal\")\n",
    "else:\n",
    "    print(f\"A BMI of {bmi}kg/m2 is considered underweight\")"
   ]
  },
  {
   "cell_type": "code",
   "execution_count": null,
   "metadata": {},
   "outputs": [],
   "source": []
  }
 ],
 "metadata": {
  "kernelspec": {
   "display_name": "Python 3",
   "language": "python",
   "name": "python3"
  },
  "language_info": {
   "codemirror_mode": {
    "name": "ipython",
    "version": 3
   },
   "file_extension": ".py",
   "mimetype": "text/x-python",
   "name": "python",
   "nbconvert_exporter": "python",
   "pygments_lexer": "ipython3",
   "version": "3.7.0"
  }
 },
 "nbformat": 4,
 "nbformat_minor": 2
}
